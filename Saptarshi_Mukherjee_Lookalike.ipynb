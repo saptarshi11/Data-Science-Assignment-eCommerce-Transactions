{
  "cells": [
    {
      "cell_type": "markdown",
      "metadata": {},
      "source": [
        "\n",
        "Name : Saptarshi Mukherjee"
      ]
    },
    {
      "cell_type": "code",
      "execution_count": 58,
      "metadata": {
        "colab": {
          "base_uri": "https://localhost:8080/"
        },
        "id": "ocfxWBaYXwAk",
        "outputId": "8c58e297-f10a-4f02-8375-518c4ba74ed7"
      },
      "outputs": [
        {
          "name": "stdout",
          "output_type": "stream",
          "text": [
            "\n",
            ". Loading datasets...\n",
            "\n",
            "Customers data sample:\n",
            "  CustomerID        CustomerName         Region  SignupDate\n",
            "0      C0001    Lawrence Carroll  South America  2022-07-10\n",
            "1      C0002      Elizabeth Lutz           Asia  2022-02-13\n",
            "2      C0003      Michael Rivera  South America  2024-03-07\n",
            "3      C0004  Kathleen Rodriguez  South America  2022-10-09\n",
            "4      C0005         Laura Weber           Asia  2022-08-15\n",
            "\n",
            "Products data sample:\n",
            "  ProductID              ProductName     Category   Price\n",
            "0      P001     ActiveWear Biography        Books  169.30\n",
            "1      P002    ActiveWear Smartwatch  Electronics  346.30\n",
            "2      P003  ComfortLiving Biography        Books   44.12\n",
            "3      P004            BookWorld Rug   Home Decor   95.69\n",
            "4      P005          TechPro T-Shirt     Clothing  429.31\n",
            "\n",
            "Transactions data sample:\n",
            "  TransactionID CustomerID ProductID      TransactionDate  Quantity  \\\n",
            "0        T00001      C0199      P067  2024-08-25 12:38:23         1   \n",
            "1        T00112      C0146      P067  2024-05-27 22:23:54         1   \n",
            "2        T00166      C0127      P067  2024-04-25 07:38:55         1   \n",
            "3        T00272      C0087      P067  2024-03-26 22:55:37         2   \n",
            "4        T00363      C0070      P067  2024-03-21 15:10:10         3   \n",
            "\n",
            "   TotalValue   Price  \n",
            "0      300.68  300.68  \n",
            "1      300.68  300.68  \n",
            "2      300.68  300.68  \n",
            "3      601.36  300.68  \n",
            "4      902.04  300.68  \n"
          ]
        }
      ],
      "source": [
        "import pandas as pd\n",
        "import numpy as np\n",
        "from sklearn.preprocessing import StandardScaler\n",
        "from sklearn.metrics.pairwise import cosine_similarity\n",
        "\n",
        "# Load datasets\n",
        "print(\"\\n. Loading datasets...\")\n",
        "customers = pd.read_csv('Customers.csv')\n",
        "products = pd.read_csv('Products.csv')\n",
        "transactions = pd.read_csv('Transactions.csv')\n",
        "\n",
        "print(\"\\nCustomers data sample:\")\n",
        "print(customers.head())\n",
        "print(\"\\nProducts data sample:\")\n",
        "print(products.head())\n",
        "print(\"\\nTransactions data sample:\")\n",
        "print(transactions.head())\n"
      ]
    },
    {
      "cell_type": "code",
      "execution_count": 59,
      "metadata": {
        "colab": {
          "base_uri": "https://localhost:8080/"
        },
        "id": "S8kyFwA_aInw",
        "outputId": "47cdd784-a5b6-44f3-b363-bf8449296a55"
      },
      "outputs": [
        {
          "name": "stdout",
          "output_type": "stream",
          "text": [
            "\n",
            ". Processing signup dates...\n",
            "\n",
            "Customers data with processed dates:\n",
            "  CustomerID        CustomerName         Region SignupDate  days_since_signup\n",
            "0      C0001    Lawrence Carroll  South America 2022-07-10                933\n",
            "1      C0002      Elizabeth Lutz           Asia 2022-02-13               1080\n",
            "2      C0003      Michael Rivera  South America 2024-03-07                327\n",
            "3      C0004  Kathleen Rodriguez  South America 2022-10-09                842\n",
            "4      C0005         Laura Weber           Asia 2022-08-15                897\n",
            "\n",
            ". Merging datasets...\n",
            "\n",
            "Merged data sample:\n",
            "  TransactionID CustomerID ProductID      TransactionDate  Quantity  \\\n",
            "0        T00001      C0199      P067  2024-08-25 12:38:23         1   \n",
            "1        T00112      C0146      P067  2024-05-27 22:23:54         1   \n",
            "2        T00166      C0127      P067  2024-04-25 07:38:55         1   \n",
            "3        T00272      C0087      P067  2024-03-26 22:55:37         2   \n",
            "4        T00363      C0070      P067  2024-03-21 15:10:10         3   \n",
            "\n",
            "   TotalValue  Price_x     CustomerName         Region SignupDate  \\\n",
            "0      300.68   300.68   Andrea Jenkins         Europe 2022-12-03   \n",
            "1      300.68   300.68  Brittany Harvey           Asia 2024-09-04   \n",
            "2      300.68   300.68  Kathryn Stevens         Europe 2024-04-04   \n",
            "3      601.36   300.68  Travis Campbell  South America 2024-04-11   \n",
            "4      902.04   300.68    Timothy Perez         Europe 2022-03-15   \n",
            "\n",
            "   days_since_signup                      ProductName     Category  Price_y  \n",
            "0                787  ComfortLiving Bluetooth Speaker  Electronics   300.68  \n",
            "1                146  ComfortLiving Bluetooth Speaker  Electronics   300.68  \n",
            "2                299  ComfortLiving Bluetooth Speaker  Electronics   300.68  \n",
            "3                292  ComfortLiving Bluetooth Speaker  Electronics   300.68  \n",
            "4               1050  ComfortLiving Bluetooth Speaker  Electronics   300.68  \n",
            "\n",
            "Merged data shape: (1000, 14)\n"
          ]
        }
      ],
      "source": [
        "# Process signup date\n",
        "print(\"\\n. Processing signup dates...\")\n",
        "customers['SignupDate'] = pd.to_datetime(customers['SignupDate'])\n",
        "customers['days_since_signup'] = (pd.to_datetime('today') - customers['SignupDate']).dt.days\n",
        "print(\"\\nCustomers data with processed dates:\")\n",
        "print(customers.head())\n",
        "\n",
        "# Merge datasets\n",
        "print(\"\\n. Merging datasets...\")\n",
        "merged_data = transactions.merge(customers, on='CustomerID')\n",
        "merged_data = merged_data.merge(products, on='ProductID')\n",
        "print(\"\\nMerged data sample:\")\n",
        "print(merged_data.head())\n",
        "print(\"\\nMerged data shape:\", merged_data.shape)\n"
      ]
    },
    {
      "cell_type": "code",
      "execution_count": 61,
      "metadata": {
        "id": "iVu80FdccYBm"
      },
      "outputs": [],
      "source": [
        "# Feature engineering\n",
        "customer_features = merged_data.groupby('CustomerID').agg({\n",
        "    'TotalValue': 'sum',\n",
        "    'Quantity': 'mean',\n",
        "    'Category': lambda x: x.mode()[0],  # Most frequent category\n",
        "    'Region': 'first'  # Region is the same for a customer\n",
        "}).reset_index()"
      ]
    },
    {
      "cell_type": "code",
      "execution_count": 47,
      "metadata": {
        "colab": {
          "base_uri": "https://localhost:8080/"
        },
        "id": "fdvKINCAZX-6",
        "outputId": "3e05f4ae-e146-48b7-a4cf-494dde47a977"
      },
      "outputs": [
        {
          "name": "stdout",
          "output_type": "stream",
          "text": [
            "\n",
            "Customer features sample:\n",
            "  CustomerID  Total_Value_Sum  Total_Value_Mean  Total_Value_Std  \\\n",
            "0      C0001          3354.52           670.904       456.643861   \n",
            "1      C0002          1862.74           465.685       219.519169   \n",
            "2      C0003          2725.38           681.345       559.276543   \n",
            "3      C0004          5354.88           669.360       325.386829   \n",
            "4      C0005          2034.24           678.080       310.820746   \n",
            "\n",
            "   Quantity_Sum  Quantity_Mean  Quantity_Std Most_Frequent_Category  \\\n",
            "0            12       2.400000      0.547723            Electronics   \n",
            "1            10       2.500000      1.000000             Home Decor   \n",
            "2            14       3.500000      0.577350             Home Decor   \n",
            "3            23       2.875000      1.125992                  Books   \n",
            "4             7       2.333333      0.577350            Electronics   \n",
            "\n",
            "          Region  days_since_signup  \n",
            "0  South America                933  \n",
            "1           Asia               1080  \n",
            "2  South America                327  \n",
            "3  South America                842  \n",
            "4           Asia                897  \n",
            "\n",
            "Feature statistics:\n",
            "       Total_Value_Sum  Total_Value_Mean  Total_Value_Std  Quantity_Sum  \\\n",
            "count       199.000000        199.000000       187.000000    199.000000   \n",
            "mean       3467.314372        687.580182       468.803397     12.748744   \n",
            "std        1832.677958        237.936649       174.921442      6.151060   \n",
            "min          82.360000         82.360000        35.413743      1.000000   \n",
            "25%        2162.040000        542.941667       350.994132      8.500000   \n",
            "50%        3137.660000        677.207500       473.595627     12.000000   \n",
            "75%        4770.225000        828.624167       582.413946     17.000000   \n",
            "max       10673.870000       1323.133333      1140.605664     32.000000   \n",
            "\n",
            "       Quantity_Mean  Quantity_Std  days_since_signup  \n",
            "count     199.000000    187.000000         199.000000  \n",
            "mean        2.530796      1.068013         559.135678  \n",
            "std         0.561653      0.347932         326.273413  \n",
            "min         1.000000      0.000000          31.000000  \n",
            "25%         2.200000      0.894427         290.000000  \n",
            "50%         2.500000      1.112697         528.000000  \n",
            "75%         3.000000      1.290994         856.000000  \n",
            "max         4.000000      2.121320        1102.000000  \n"
          ]
        }
      ],
      "source": [
        "# Flatten column names\n",
        "customer_features.columns = ['CustomerID', 'Total_Value_Sum', 'Total_Value_Mean',\n",
        "                           'Total_Value_Std', 'Quantity_Sum', 'Quantity_Mean',\n",
        "                           'Quantity_Std', 'Most_Frequent_Category', 'Region',\n",
        "                           'days_since_signup']\n",
        "\n",
        "print(\"\\nCustomer features sample:\")\n",
        "print(customer_features.head())\n",
        "print(\"\\nFeature statistics:\")\n",
        "print(customer_features.describe())\n"
      ]
    },
    {
      "cell_type": "code",
      "execution_count": 48,
      "metadata": {
        "colab": {
          "base_uri": "https://localhost:8080/"
        },
        "id": "WLoO5vFRZYBN",
        "outputId": "5761dbb4-97bf-4325-faf2-9eeccf9ba10a"
      },
      "outputs": [
        {
          "name": "stdout",
          "output_type": "stream",
          "text": [
            " Additional features added:\n",
            "  CustomerID  avg_transaction_value  purchase_frequency\n",
            "0      C0001             279.543333            0.012862\n",
            "1      C0002             186.274000            0.009259\n",
            "2      C0003             194.670000            0.042813\n",
            "3      C0004             232.820870            0.027316\n",
            "4      C0005             290.605714            0.007804\n"
          ]
        }
      ],
      "source": [
        "# Handle null values\n",
        "customer_features = customer_features.fillna({\n",
        "    'Total_Value_Std': 0,\n",
        "    'Quantity_Std': 0\n",
        "})\n",
        "# Calculate additional features\n",
        "customer_features['avg_transaction_value'] = customer_features['Total_Value_Sum'] / customer_features['Quantity_Sum']\n",
        "customer_features['purchase_frequency'] = customer_features['Quantity_Sum'] / customer_features['days_since_signup']\n",
        "\n",
        "print(\" Additional features added:\")\n",
        "print(customer_features[['CustomerID', 'avg_transaction_value', 'purchase_frequency']].head())\n",
        "\n",
        "# Separate features for encoding\n",
        "numerical_cols = ['Total_Value_Sum', 'Total_Value_Mean', 'Total_Value_Std',\n",
        "                 'Quantity_Sum', 'Quantity_Mean', 'Quantity_Std',\n",
        "                 'days_since_signup', 'avg_transaction_value', 'purchase_frequency']\n",
        "categorical_cols = ['Most_Frequent_Category', 'Region']"
      ]
    },
    {
      "cell_type": "code",
      "execution_count": 52,
      "metadata": {
        "colab": {
          "base_uri": "https://localhost:8080/"
        },
        "id": "5_S3YpcYZYEI",
        "outputId": "7ced8d61-f30b-4f2c-fe9b-2e453f4b5f25"
      },
      "outputs": [
        {
          "name": "stdout",
          "output_type": "stream",
          "text": [
            "\n",
            "Encoded categorical features sample:\n",
            "   Most_Frequent_Category_Books  Most_Frequent_Category_Clothing  \\\n",
            "0                         False                            False   \n",
            "1                         False                            False   \n",
            "2                         False                            False   \n",
            "3                          True                            False   \n",
            "4                         False                            False   \n",
            "\n",
            "   Most_Frequent_Category_Electronics  Most_Frequent_Category_Home Decor  \\\n",
            "0                                True                              False   \n",
            "1                               False                               True   \n",
            "2                               False                               True   \n",
            "3                               False                              False   \n",
            "4                                True                              False   \n",
            "\n",
            "   Region_Asia  Region_Europe  Region_North America  Region_South America  \n",
            "0        False          False                 False                  True  \n",
            "1         True          False                 False                 False  \n",
            "2        False          False                 False                  True  \n",
            "3        False          False                 False                  True  \n",
            "4         True          False                 False                 False  \n"
          ]
        }
      ],
      "source": [
        "# Store customer IDs\n",
        "customer_ids = customer_features['CustomerID'].values\n",
        "\n",
        "# One-hot encode categorical features\n",
        "encoded_categorical = pd.get_dummies(customer_features[categorical_cols], prefix=categorical_cols)\n",
        "print(\"\\nEncoded categorical features sample:\")\n",
        "print(encoded_categorical.head())\n"
      ]
    },
    {
      "cell_type": "code",
      "execution_count": 53,
      "metadata": {
        "colab": {
          "base_uri": "https://localhost:8080/"
        },
        "id": "jReMG4UsZYGw",
        "outputId": "4899b1ef-0a6c-49a2-fe75-fef602e94a71"
      },
      "outputs": [
        {
          "name": "stdout",
          "output_type": "stream",
          "text": [
            "\n",
            ". Normalizing numerical features...\n",
            "\n",
            "Normalized numerical features sample:\n",
            "   Total_Value_Sum  Total_Value_Mean  Total_Value_Std  Quantity_Sum  \\\n",
            "0        -0.061701         -0.070263         0.079511     -0.122033   \n",
            "1        -0.877744         -0.934933        -1.090817     -0.448000   \n",
            "2        -0.405857         -0.026271         0.586054      0.203934   \n",
            "3         1.032547         -0.076769        -0.568308      1.670787   \n",
            "4        -0.783929         -0.040028        -0.640199     -0.936951   \n",
            "\n",
            "   Quantity_Mean  Quantity_Std  days_since_signup  avg_transaction_value  \\\n",
            "0      -0.233464     -1.081215           1.148752               0.104195   \n",
            "1      -0.054969     -0.008562           1.600431              -1.152382   \n",
            "2       1.729980     -1.010948          -0.713270              -1.039267   \n",
            "3       0.614387      0.290248           0.869141              -0.525277   \n",
            "4      -0.352460     -1.010948           1.038137               0.253234   \n",
            "\n",
            "   purchase_frequency  \n",
            "0           -0.510803  \n",
            "1           -0.572342  \n",
            "2            0.000843  \n",
            "3           -0.263892  \n",
            "4           -0.597205  \n"
          ]
        }
      ],
      "source": [
        "# Normalize numerical features\n",
        "print(\"\\n. Normalizing numerical features...\")\n",
        "scaler = StandardScaler()\n",
        "normalized_numerical = pd.DataFrame(\n",
        "    scaler.fit_transform(customer_features[numerical_cols]),\n",
        "    columns=numerical_cols\n",
        ")\n",
        "print(\"\\nNormalized numerical features sample:\")\n",
        "print(normalized_numerical.head())"
      ]
    },
    {
      "cell_type": "code",
      "execution_count": 54,
      "metadata": {
        "colab": {
          "base_uri": "https://localhost:8080/"
        },
        "id": "_keKxkcFZI6J",
        "outputId": "92902409-075e-4064-e0a2-44e4ed0664cb"
      },
      "outputs": [
        {
          "name": "stdout",
          "output_type": "stream",
          "text": [
            "\n",
            ". Final features shape: (199, 17)\n",
            "\n",
            "Final features sample:\n",
            "   Total_Value_Sum  Total_Value_Mean  Total_Value_Std  Quantity_Sum  \\\n",
            "0        -0.061701         -0.070263         0.079511     -0.122033   \n",
            "1        -0.877744         -0.934933        -1.090817     -0.448000   \n",
            "2        -0.405857         -0.026271         0.586054      0.203934   \n",
            "3         1.032547         -0.076769        -0.568308      1.670787   \n",
            "4        -0.783929         -0.040028        -0.640199     -0.936951   \n",
            "\n",
            "   Quantity_Mean  Quantity_Std  days_since_signup  avg_transaction_value  \\\n",
            "0      -0.233464     -1.081215           1.148752               0.104195   \n",
            "1      -0.054969     -0.008562           1.600431              -1.152382   \n",
            "2       1.729980     -1.010948          -0.713270              -1.039267   \n",
            "3       0.614387      0.290248           0.869141              -0.525277   \n",
            "4      -0.352460     -1.010948           1.038137               0.253234   \n",
            "\n",
            "   purchase_frequency  Most_Frequent_Category_Books  \\\n",
            "0           -0.510803                         False   \n",
            "1           -0.572342                         False   \n",
            "2            0.000843                         False   \n",
            "3           -0.263892                          True   \n",
            "4           -0.597205                         False   \n",
            "\n",
            "   Most_Frequent_Category_Clothing  Most_Frequent_Category_Electronics  \\\n",
            "0                            False                                True   \n",
            "1                            False                               False   \n",
            "2                            False                               False   \n",
            "3                            False                               False   \n",
            "4                            False                                True   \n",
            "\n",
            "   Most_Frequent_Category_Home Decor  Region_Asia  Region_Europe  \\\n",
            "0                              False        False          False   \n",
            "1                               True         True          False   \n",
            "2                               True        False          False   \n",
            "3                              False        False          False   \n",
            "4                              False         True          False   \n",
            "\n",
            "   Region_North America  Region_South America  \n",
            "0                 False                  True  \n",
            "1                 False                 False  \n",
            "2                 False                  True  \n",
            "3                 False                  True  \n",
            "4                 False                 False  \n",
            "\n",
            ". Calculating similarity matrix...\n",
            "\n",
            "Similarity matrix shape: (199, 199)\n",
            "\n",
            "Similarity matrix sample (first 5x5):\n",
            "[[ 1.          0.31669174  0.12881892  0.21442321  0.67710874]\n",
            " [ 0.31669174  1.          0.07129227  0.13555293  0.58869574]\n",
            " [ 0.12881892  0.07129227  1.          0.16175673 -0.11480652]\n",
            " [ 0.21442321  0.13555293  0.16175673  1.         -0.2233525 ]\n",
            " [ 0.67710874  0.58869574 -0.11480652 -0.2233525   1.        ]]\n"
          ]
        }
      ],
      "source": [
        "# Combine features\n",
        "final_features = pd.concat([normalized_numerical, encoded_categorical], axis=1)\n",
        "print(\"\\n. Final features shape:\", final_features.shape)\n",
        "print(\"\\nFinal features sample:\")\n",
        "print(final_features.head())\n",
        "\n",
        "# Calculate similarity matrix\n",
        "print(\"\\n. Calculating similarity matrix...\")\n",
        "similarity_matrix = cosine_similarity(final_features)\n",
        "print(\"\\nSimilarity matrix shape:\", similarity_matrix.shape)\n",
        "print(\"\\nSimilarity matrix sample (first 5x5):\")\n",
        "print(similarity_matrix[:5, :5])\n"
      ]
    },
    {
      "cell_type": "code",
      "execution_count": 55,
      "metadata": {
        "colab": {
          "base_uri": "https://localhost:8080/"
        },
        "id": "tJ6_HVmKY5ta",
        "outputId": "91e6c194-df2a-4512-d171-5165733b7f9d"
      },
      "outputs": [
        {
          "name": "stdout",
          "output_type": "stream",
          "text": [
            "\n",
            ". Finding top 3 similar customers...\n"
          ]
        }
      ],
      "source": [
        "# Get top 3 similar customers for first 20 customers\n",
        "print(\"\\n. Finding top 3 similar customers...\")\n",
        "similar_customers = {}\n",
        "for i in range(min(20, len(customer_ids))):\n",
        "    similarities = list(enumerate(similarity_matrix[i]))\n",
        "    sorted_similarities = sorted(similarities, key=lambda x: x[1], reverse=True)[1:4]\n",
        "    similar_customers[customer_ids[i]] = [\n",
        "        (customer_ids[j], round(score, 4))\n",
        "        for j, score in sorted_similarities\n",
        "    ]\n"
      ]
    },
    {
      "cell_type": "code",
      "execution_count": 56,
      "metadata": {
        "colab": {
          "base_uri": "https://localhost:8080/"
        },
        "id": "am8CNgO9Y2Hx",
        "outputId": "e7a528fe-0b50-4c70-9d3e-e46b2ff53f47"
      },
      "outputs": [
        {
          "name": "stdout",
          "output_type": "stream",
          "text": [
            "\n",
            ". Final Results:\n",
            "\n",
            "Output file preview:\n",
            "  CustomerID                        SimilarCustomers_WithScores\n",
            "0      C0001  [('C0184', 0.7055), ('C0005', 0.6771), ('C0118...\n",
            "1      C0002  [('C0060', 0.7666), ('C0086', 0.7579), ('C0025...\n",
            "2      C0003  [('C0144', 0.8501), ('C0136', 0.7312), ('C0091...\n",
            "3      C0004  [('C0165', 0.7826), ('C0109', 0.777), ('C0153'...\n",
            "4      C0005  [('C0130', 0.7769), ('C0150', 0.7328), ('C0131...\n"
          ]
        }
      ],
      "source": [
        "# Create and save output file\n",
        "output_df = pd.DataFrame({\n",
        "    'CustomerID': list(similar_customers.keys()),\n",
        "    'SimilarCustomers_WithScores': [str(v) for v in similar_customers.values()]\n",
        "})\n",
        "output_df.to_csv('Lookalike.csv', index=False)\n",
        "\n",
        "print(\"\\n. Final Results:\")\n",
        "print(\"\\nOutput file preview:\")\n",
        "print(output_df.head())\n"
      ]
    },
    {
      "cell_type": "code",
      "execution_count": 45,
      "metadata": {
        "colab": {
          "base_uri": "https://localhost:8080/"
        },
        "id": "szotCjdHYvzy",
        "outputId": "60e069e6-dea9-4501-bc52-eccf05a1b1c8"
      },
      "outputs": [
        {
          "name": "stdout",
          "output_type": "stream",
          "text": [
            "\n",
            "Detailed recommendations for first 3 customers:\n",
            "\n",
            "Customer C0001:\n",
            "Original customer profile:\n",
            "CustomerID                        C0001\n",
            "Total_Value_Sum                 3354.52\n",
            "Total_Value_Mean                670.904\n",
            "Total_Value_Std              456.643861\n",
            "Quantity_Sum                         12\n",
            "Quantity_Mean                       2.4\n",
            "Quantity_Std                   0.547723\n",
            "Most_Frequent_Category      Electronics\n",
            "Region                    South America\n",
            "days_since_signup                   933\n",
            "avg_transaction_value        279.543333\n",
            "purchase_frequency             0.012862\n",
            "Name: 0, dtype: object\n",
            "\n",
            "Similar customers:\n",
            "\n",
            "Similar customer C0184 (Similarity score: 0.7055):\n",
            "CustomerID                        C0184\n",
            "Total_Value_Sum                 3393.18\n",
            "Total_Value_Mean                 484.74\n",
            "Total_Value_Std              209.079667\n",
            "Quantity_Sum                         11\n",
            "Quantity_Mean                  1.571429\n",
            "Quantity_Std                   0.786796\n",
            "Most_Frequent_Category      Electronics\n",
            "Region                    South America\n",
            "days_since_signup                   991\n",
            "avg_transaction_value        308.470909\n",
            "purchase_frequency               0.0111\n",
            "Name: 182, dtype: object\n",
            "\n",
            "Similar customer C0005 (Similarity score: 0.6771):\n",
            "CustomerID                      C0005\n",
            "Total_Value_Sum               2034.24\n",
            "Total_Value_Mean               678.08\n",
            "Total_Value_Std            310.820746\n",
            "Quantity_Sum                        7\n",
            "Quantity_Mean                2.333333\n",
            "Quantity_Std                  0.57735\n",
            "Most_Frequent_Category    Electronics\n",
            "Region                           Asia\n",
            "days_since_signup                 897\n",
            "avg_transaction_value      290.605714\n",
            "purchase_frequency           0.007804\n",
            "Name: 4, dtype: object\n",
            "\n",
            "Similar customer C0118 (Similarity score: 0.6307):\n",
            "CustomerID                        C0118\n",
            "Total_Value_Sum                 3434.77\n",
            "Total_Value_Mean             572.461667\n",
            "Total_Value_Std              567.822164\n",
            "Quantity_Sum                         10\n",
            "Quantity_Mean                  1.666667\n",
            "Quantity_Std                    1.21106\n",
            "Most_Frequent_Category      Electronics\n",
            "Region                    South America\n",
            "days_since_signup                  1102\n",
            "avg_transaction_value           343.477\n",
            "purchase_frequency             0.009074\n",
            "Name: 117, dtype: object\n",
            "\n",
            "Customer C0002:\n",
            "Original customer profile:\n",
            "CustomerID                     C0002\n",
            "Total_Value_Sum              1862.74\n",
            "Total_Value_Mean             465.685\n",
            "Total_Value_Std           219.519169\n",
            "Quantity_Sum                      10\n",
            "Quantity_Mean                    2.5\n",
            "Quantity_Std                     1.0\n",
            "Most_Frequent_Category    Home Decor\n",
            "Region                          Asia\n",
            "days_since_signup               1080\n",
            "avg_transaction_value        186.274\n",
            "purchase_frequency          0.009259\n",
            "Name: 1, dtype: object\n",
            "\n",
            "Similar customers:\n",
            "\n",
            "Similar customer C0060 (Similarity score: 0.7666):\n",
            "CustomerID                     C0060\n",
            "Total_Value_Sum                82.36\n",
            "Total_Value_Mean               82.36\n",
            "Total_Value_Std                  0.0\n",
            "Quantity_Sum                       2\n",
            "Quantity_Mean                    2.0\n",
            "Quantity_Std                     0.0\n",
            "Most_Frequent_Category    Home Decor\n",
            "Region                        Europe\n",
            "days_since_signup               1012\n",
            "avg_transaction_value          41.18\n",
            "purchase_frequency          0.001976\n",
            "Name: 59, dtype: object\n",
            "\n",
            "Similar customer C0086 (Similarity score: 0.7579):\n",
            "CustomerID                     C0086\n",
            "Total_Value_Sum              2754.68\n",
            "Total_Value_Mean             550.936\n",
            "Total_Value_Std           274.399831\n",
            "Quantity_Sum                      13\n",
            "Quantity_Mean                    2.6\n",
            "Quantity_Std                1.341641\n",
            "Most_Frequent_Category    Home Decor\n",
            "Region                        Europe\n",
            "days_since_signup                863\n",
            "avg_transaction_value     211.898462\n",
            "purchase_frequency          0.015064\n",
            "Name: 85, dtype: object\n",
            "\n",
            "Similar customer C0025 (Similarity score: 0.7479):\n",
            "CustomerID                        C0025\n",
            "Total_Value_Sum                 1589.81\n",
            "Total_Value_Mean               397.4525\n",
            "Total_Value_Std              377.851177\n",
            "Quantity_Sum                          8\n",
            "Quantity_Mean                       2.0\n",
            "Quantity_Std                   1.414214\n",
            "Most_Frequent_Category       Home Decor\n",
            "Region                    South America\n",
            "days_since_signup                   939\n",
            "avg_transaction_value         198.72625\n",
            "purchase_frequency              0.00852\n",
            "Name: 24, dtype: object\n",
            "\n",
            "Customer C0003:\n",
            "Original customer profile:\n",
            "CustomerID                        C0003\n",
            "Total_Value_Sum                 2725.38\n",
            "Total_Value_Mean                681.345\n",
            "Total_Value_Std              559.276543\n",
            "Quantity_Sum                         14\n",
            "Quantity_Mean                       3.5\n",
            "Quantity_Std                    0.57735\n",
            "Most_Frequent_Category       Home Decor\n",
            "Region                    South America\n",
            "days_since_signup                   327\n",
            "avg_transaction_value            194.67\n",
            "purchase_frequency             0.042813\n",
            "Name: 2, dtype: object\n",
            "\n",
            "Similar customers:\n",
            "\n",
            "Similar customer C0144 (Similarity score: 0.8501):\n",
            "CustomerID                        C0144\n",
            "Total_Value_Sum                 1304.68\n",
            "Total_Value_Mean                 652.34\n",
            "Total_Value_Std              749.504904\n",
            "Quantity_Sum                          8\n",
            "Quantity_Mean                       4.0\n",
            "Quantity_Std                        0.0\n",
            "Most_Frequent_Category       Home Decor\n",
            "Region                    North America\n",
            "days_since_signup                   120\n",
            "avg_transaction_value           163.085\n",
            "purchase_frequency             0.066667\n",
            "Name: 143, dtype: object\n",
            "\n",
            "Similar customer C0136 (Similarity score: 0.7312):\n",
            "CustomerID                     C0136\n",
            "Total_Value_Sum              4298.99\n",
            "Total_Value_Mean          716.498333\n",
            "Total_Value_Std           399.408666\n",
            "Quantity_Sum                      21\n",
            "Quantity_Mean                    3.5\n",
            "Quantity_Std                0.547723\n",
            "Most_Frequent_Category    Home Decor\n",
            "Region                          Asia\n",
            "days_since_signup                320\n",
            "avg_transaction_value      204.71381\n",
            "purchase_frequency          0.065625\n",
            "Name: 135, dtype: object\n",
            "\n",
            "Similar customer C0091 (Similarity score: 0.6929):\n",
            "CustomerID                        C0091\n",
            "Total_Value_Sum                 3137.66\n",
            "Total_Value_Mean             522.943333\n",
            "Total_Value_Std              644.729445\n",
            "Quantity_Sum                         20\n",
            "Quantity_Mean                  3.333333\n",
            "Quantity_Std                   0.816497\n",
            "Most_Frequent_Category      Electronics\n",
            "Region                    South America\n",
            "days_since_signup                   684\n",
            "avg_transaction_value           156.883\n",
            "purchase_frequency              0.02924\n",
            "Name: 90, dtype: object\n"
          ]
        }
      ],
      "source": [
        "# Print detailed recommendations\n",
        "print(\"\\nDetailed recommendations for first 3 customers:\")\n",
        "for customer_id in list(similar_customers.keys())[:3]:\n",
        "    print(f\"\\nCustomer {customer_id}:\")\n",
        "    print(\"Original customer profile:\")\n",
        "    print(customer_features[customer_features['CustomerID'] == customer_id].iloc[0])\n",
        "    print(\"\\nSimilar customers:\")\n",
        "    for similar_id, score in similar_customers[customer_id]:\n",
        "        print(f\"\\nSimilar customer {similar_id} (Similarity score: {score}):\")\n",
        "        print(customer_features[customer_features['CustomerID'] == similar_id].iloc[0])"
      ]
    },
    {
      "cell_type": "markdown",
      "metadata": {},
      "source": [
        "Data Preparation and Feature Engineering:\n",
        "\n",
        "Customer Profiles: Days since signup and region are used as features. The 'Region' is one-hot encoded, transforming it into a numerical representation suitable for machine learning algorithms. This helps the model consider regional differences when determining similarity. Days since signup helps quantify customer recency and potentially identify trends based on the customer's lifecycle.\n",
        "\n",
        "Transaction Data: The code aggregates transaction information for each customer, focusing on purchasing behavior. Key features derived are:\n",
        "\n",
        "AvgTransactionValue: Average value of each transaction per customer. This indicates typical spending habits.\n",
        "TotalSpending: Total money spent by the customer. A higher value suggests a more valuable customer.\n",
        "TransactionCount: Number of transactions. Frequency of purchase could be a valuable indicator of customer engagement.\n",
        "FavoriteCategory: Most frequently purchased product category. Shows preferred product areas for each customer. This category is then one-hot encoded, just like region.\n",
        "Data Merging: Customer profiles and transaction aggregates are merged into final_data. This combines all relevant features for each customer into a single dataset.\n",
        "\n",
        "Handling Missing Data: Missing values in FavoriteCategory (which may arise if some customers bought products from various categories equally) are filled with 0.\n",
        "\n",
        "2. Data Normalization:\n",
        "\n",
        "Standardization: Using StandardScaler, all features are standardized (z-score normalization). This transforms the data to have zero mean and unit variance. Standardization is crucial for distance-based methods like cosine similarity. Features with larger scales (like total spending) wouldn't disproportionately affect the similarity calculation compared to features with smaller scales (like the number of transactions).\n",
        "3. Look-Alike Model (Cosine Similarity):\n",
        "\n",
        "Cosine Similarity: The core of the look-alike model is cosine similarity. It measures the cosine of the angle between two vectors (representing customers in this case). A cosine similarity of 1 indicates identical vectors (customers with identical behavior), while 0 means no similarity.\n",
        "Similarity Matrix: A similarity_matrix is built, where each entry represents the similarity between two customers.\n",
        "Top Look-Alikes: For the first 20 customers, the code identifies the top 3 most similar customers (look-alikes) based on the similarity scores. It excludes the customer itself.\n",
        "4. Output and Storage:\n",
        "\n",
        "Look-Alike Data: The results are stored in a DataFrame containing the customer ID and a list of their top 3 look-alike customers and their similarity scores.\n",
        "CSV File: The look-alike data is saved to Lookalike.csv.\n",
        "Overall Insights and Potential Improvements:\n",
        "\n",
        "Feature Importance: The code doesn't analyze the importance of each feature. Techniques like feature importance from tree-based models or permutation importance could help identify which factors are most influential in determining look-alike customers. This would enhance interpretability and allow you to refine the feature set.\n",
        "Alternative Similarity Measures: Explore other similarity or distance metrics (e.g., Euclidean distance, Manhattan distance, or Jaccard similarity) to see if they yield better results. The choice of distance metric depends on the nature of the data and the problem.\n",
        "Hyperparameter Tuning: If you use more sophisticated similarity methods, hyperparameter tuning is critical.\n",
        "Dynamic Threshold: Instead of a fixed top 3, consider a dynamic threshold based on the similarity score. This would give you a more flexible way to identify look-alike customers.\n",
        "Recency, Frequency, Monetary Value (RFM) Analysis: Consider incorporating RFM analysis, which can offer more detailed insights into customer behavior patterns.\n",
        "Model Evaluation: No evaluation of the model performance is included in the code. Defining metrics and validation approaches to evaluate the model's effectiveness at identifying truly similar customers would be valuable.\n"
      ]
    }
  ],
  "metadata": {
    "colab": {
      "provenance": []
    },
    "kernelspec": {
      "display_name": "Python 3",
      "name": "python3"
    },
    "language_info": {
      "name": "python"
    }
  },
  "nbformat": 4,
  "nbformat_minor": 0
}
